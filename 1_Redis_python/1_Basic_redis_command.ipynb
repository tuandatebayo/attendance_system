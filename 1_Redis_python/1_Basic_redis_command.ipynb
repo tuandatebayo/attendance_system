{
 "cells": [
  {
   "cell_type": "code",
   "execution_count": 2,
   "id": "a688a906-d324-4aa0-938c-18bdbc8f182f",
   "metadata": {},
   "outputs": [],
   "source": [
    "import redis"
   ]
  },
  {
   "cell_type": "code",
   "execution_count": 3,
   "id": "8be7c871-6553-439d-b063-41bcb79108b6",
   "metadata": {},
   "outputs": [],
   "source": [
    "r = redis.Redis(host ='redis-14584.c1.asia-northeast1-1.gce.redns.redis-cloud.com',\n",
    "                port=14584 ,\n",
    "                password='dcZEr1OivCI6rRb27Eqw8mdCC9Lez0wJ')"
   ]
  },
  {
   "cell_type": "code",
   "execution_count": 4,
   "id": "0c16f257-8a84-4449-b49f-ef49866e526d",
   "metadata": {},
   "outputs": [
    {
     "data": {
      "text/plain": [
       "True"
      ]
     },
     "execution_count": 4,
     "metadata": {},
     "output_type": "execute_result"
    }
   ],
   "source": [
    "r.set(name='foo', value='bar')"
   ]
  },
  {
   "cell_type": "code",
   "execution_count": 5,
   "id": "2aa375a9-67eb-4ed0-b391-3612498c9723",
   "metadata": {},
   "outputs": [
    {
     "data": {
      "text/plain": [
       "b'bar'"
      ]
     },
     "execution_count": 5,
     "metadata": {},
     "output_type": "execute_result"
    }
   ],
   "source": [
    "r.get(name='foo')"
   ]
  },
  {
   "cell_type": "code",
   "execution_count": 6,
   "id": "a8efc237-371c-45da-8f11-b2c10d8ba053",
   "metadata": {},
   "outputs": [
    {
     "data": {
      "text/plain": [
       "[b'MESSAGE', b'foo', b'KEY']"
      ]
     },
     "execution_count": 6,
     "metadata": {},
     "output_type": "execute_result"
    }
   ],
   "source": [
    "r.keys()"
   ]
  },
  {
   "cell_type": "code",
   "execution_count": null,
   "id": "93973fd9-5715-4c38-b0f7-4d0d55485d05",
   "metadata": {},
   "outputs": [],
   "source": []
  }
 ],
 "metadata": {
  "kernelspec": {
   "display_name": "Python 3 (ipykernel)",
   "language": "python",
   "name": "python3"
  },
  "language_info": {
   "codemirror_mode": {
    "name": "ipython",
    "version": 3
   },
   "file_extension": ".py",
   "mimetype": "text/x-python",
   "name": "python",
   "nbconvert_exporter": "python",
   "pygments_lexer": "ipython3",
   "version": "3.11.9"
  }
 },
 "nbformat": 4,
 "nbformat_minor": 5
}
