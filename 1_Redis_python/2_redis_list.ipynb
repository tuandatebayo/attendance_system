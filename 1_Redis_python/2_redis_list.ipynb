{
 "cells": [
  {
   "cell_type": "code",
   "execution_count": 1,
   "id": "4f58a249-4f95-41e0-9aea-8042135a10a7",
   "metadata": {},
   "outputs": [],
   "source": [
    "import redis"
   ]
  },
  {
   "cell_type": "code",
   "execution_count": 2,
   "id": "f079becd-0828-47f6-9867-7ca9f3df23ec",
   "metadata": {},
   "outputs": [],
   "source": [
    "r = redis.Redis(host ='redis-14584.c1.asia-northeast1-1.gce.redns.redis-cloud.com',\n",
    "                port=14584 ,\n",
    "                password='dcZEr1OivCI6rRb27Eqw8mdCC9Lez0wJ')"
   ]
  },
  {
   "cell_type": "code",
   "execution_count": 3,
   "id": "abf2dd98-d79e-48b4-b15d-2925606d5b78",
   "metadata": {},
   "outputs": [
    {
     "data": {
      "text/plain": [
       "True"
      ]
     },
     "execution_count": 3,
     "metadata": {},
     "output_type": "execute_result"
    }
   ],
   "source": [
    "r.ping()"
   ]
  },
  {
   "cell_type": "code",
   "execution_count": 4,
   "id": "5d9e60a7-54bf-45ee-847e-e58bda868133",
   "metadata": {},
   "outputs": [
    {
     "data": {
      "text/plain": [
       "1"
      ]
     },
     "execution_count": 4,
     "metadata": {},
     "output_type": "execute_result"
    }
   ],
   "source": [
    "r.lpush('mylist', 'value_1')"
   ]
  },
  {
   "cell_type": "code",
   "execution_count": 5,
   "id": "f7149187-d778-40cb-a491-2219e28f72fd",
   "metadata": {},
   "outputs": [
    {
     "data": {
      "text/plain": [
       "b'value_1'"
      ]
     },
     "execution_count": 5,
     "metadata": {},
     "output_type": "execute_result"
    }
   ],
   "source": [
    "r.lindex(name='mylist', index=0)"
   ]
  },
  {
   "cell_type": "code",
   "execution_count": 9,
   "id": "072482f5-84f1-4169-ac78-28e1e86479dd",
   "metadata": {},
   "outputs": [
    {
     "data": {
      "text/plain": [
       "[b'value_2', b'value_1']"
      ]
     },
     "execution_count": 9,
     "metadata": {},
     "output_type": "execute_result"
    }
   ],
   "source": [
    "r.lrange(name='mylist', start=0,end=1)"
   ]
  },
  {
   "cell_type": "code",
   "execution_count": 7,
   "id": "ca181ce6-a50e-43ed-a2c5-ef01b94409cc",
   "metadata": {},
   "outputs": [
    {
     "data": {
      "text/plain": [
       "2"
      ]
     },
     "execution_count": 7,
     "metadata": {},
     "output_type": "execute_result"
    }
   ],
   "source": [
    "r.lpush('mylist', 'value_2')"
   ]
  },
  {
   "cell_type": "code",
   "execution_count": null,
   "id": "ee7a8db6-e57b-4ea1-8cfa-9c2928d6f855",
   "metadata": {},
   "outputs": [],
   "source": []
  }
 ],
 "metadata": {
  "kernelspec": {
   "display_name": "Python 3 (ipykernel)",
   "language": "python",
   "name": "python3"
  },
  "language_info": {
   "codemirror_mode": {
    "name": "ipython",
    "version": 3
   },
   "file_extension": ".py",
   "mimetype": "text/x-python",
   "name": "python",
   "nbconvert_exporter": "python",
   "pygments_lexer": "ipython3",
   "version": "3.11.9"
  }
 },
 "nbformat": 4,
 "nbformat_minor": 5
}
