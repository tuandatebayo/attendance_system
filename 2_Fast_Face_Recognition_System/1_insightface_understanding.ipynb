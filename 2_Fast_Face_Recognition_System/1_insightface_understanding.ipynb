{
 "cells": [
  {
   "cell_type": "code",
   "execution_count": 1,
   "id": "ae2a9b22-a987-483d-8cef-ec20ac7fd940",
   "metadata": {},
   "outputs": [],
   "source": [
    "import numpy as np\n",
    "import cv2"
   ]
  },
  {
   "cell_type": "code",
   "execution_count": 2,
   "id": "a5f38117-3e79-4c11-bce8-b2c5f6f99185",
   "metadata": {},
   "outputs": [],
   "source": [
    "import insightface"
   ]
  },
  {
   "cell_type": "code",
   "execution_count": 3,
   "id": "9d357911-cc93-4a84-84d8-932e92e9a8fa",
   "metadata": {},
   "outputs": [
    {
     "name": "stdout",
     "output_type": "stream",
     "text": [
      "1\n"
     ]
    }
   ],
   "source": [
    "print(1)"
   ]
  },
  {
   "cell_type": "code",
   "execution_count": 4,
   "id": "676ccc9d-00e5-4644-a086-08c043c30d28",
   "metadata": {},
   "outputs": [],
   "source": [
    "from insightface.app import FaceAnalysis"
   ]
  },
  {
   "cell_type": "code",
   "execution_count": 11,
   "id": "ddb585ea-69b6-44b2-a9b7-644773affb26",
   "metadata": {},
   "outputs": [
    {
     "name": "stdout",
     "output_type": "stream",
     "text": [
      "Applied providers: ['CPUExecutionProvider'], with options: {'CPUExecutionProvider': {}}\n",
      "find model: C:\\Users\\tuand/.insightface\\models\\buffalo_l\\1k3d68.onnx landmark_3d_68 ['None', 3, 192, 192] 0.0 1.0\n",
      "Applied providers: ['CPUExecutionProvider'], with options: {'CPUExecutionProvider': {}}\n",
      "find model: C:\\Users\\tuand/.insightface\\models\\buffalo_l\\2d106det.onnx landmark_2d_106 ['None', 3, 192, 192] 0.0 1.0\n",
      "Applied providers: ['CPUExecutionProvider'], with options: {'CPUExecutionProvider': {}}\n",
      "find model: C:\\Users\\tuand/.insightface\\models\\buffalo_l\\det_10g.onnx detection [1, 3, '?', '?'] 127.5 128.0\n",
      "Applied providers: ['CPUExecutionProvider'], with options: {'CPUExecutionProvider': {}}\n",
      "find model: C:\\Users\\tuand/.insightface\\models\\buffalo_l\\genderage.onnx genderage ['None', 3, 96, 96] 0.0 1.0\n",
      "Applied providers: ['CPUExecutionProvider'], with options: {'CPUExecutionProvider': {}}\n",
      "find model: C:\\Users\\tuand/.insightface\\models\\buffalo_l\\w600k_r50.onnx recognition ['None', 3, 112, 112] 127.5 127.5\n"
     ]
    }
   ],
   "source": [
    "app_l = FaceAnalysis(name='buffalo_l')"
   ]
  },
  {
   "cell_type": "code",
   "execution_count": 10,
   "id": "9d3546c1-e073-490f-9878-9c28e26db495",
   "metadata": {},
   "outputs": [
    {
     "name": "stdout",
     "output_type": "stream",
     "text": [
      "Applied providers: ['CPUExecutionProvider'], with options: {'CPUExecutionProvider': {}}\n",
      "find model: C:\\Users\\tuand/.insightface\\models\\buffalo_sc\\det_500m.onnx detection [1, 3, '?', '?'] 127.5 128.0\n",
      "Applied providers: ['CPUExecutionProvider'], with options: {'CPUExecutionProvider': {}}\n",
      "find model: C:\\Users\\tuand/.insightface\\models\\buffalo_sc\\w600k_mbf.onnx recognition ['None', 3, 112, 112] 127.5 127.5\n"
     ]
    }
   ],
   "source": [
    "app_sc = FaceAnalysis(name='buffalo_sc')"
   ]
  },
  {
   "cell_type": "code",
   "execution_count": 12,
   "id": "9f97e981-0165-40b0-b7f2-ab861d4a01cd",
   "metadata": {},
   "outputs": [
    {
     "name": "stdout",
     "output_type": "stream",
     "text": [
      "set det-size: (640, 640)\n"
     ]
    }
   ],
   "source": [
    "app_l.prepare(ctx_id=0, det_size=(640,640))"
   ]
  },
  {
   "cell_type": "code",
   "execution_count": 13,
   "id": "18a6070a-4903-4afd-9b46-9518e30b26b9",
   "metadata": {},
   "outputs": [
    {
     "name": "stdout",
     "output_type": "stream",
     "text": [
      "set det-size: (640, 640)\n"
     ]
    }
   ],
   "source": [
    "app_sc.prepare(ctx_id=0, det_size=(640,640))"
   ]
  },
  {
   "cell_type": "code",
   "execution_count": 35,
   "id": "bb8110c5-291a-4e15-8ccc-a2be7fee2397",
   "metadata": {},
   "outputs": [],
   "source": [
    "img = cv2.imread('test2.jpg')\n",
    "cv2.imshow('image', img)\n",
    "cv2.waitKey(0) \n",
    "cv2.destroyAllWindows()"
   ]
  },
  {
   "cell_type": "code",
   "execution_count": 36,
   "id": "d7067667-9a60-4025-ac0a-87529de390ce",
   "metadata": {},
   "outputs": [
    {
     "name": "stderr",
     "output_type": "stream",
     "text": [
      "D:\\Code\\Attendance_System\\attendance_system\\Lib\\site-packages\\insightface\\utils\\transform.py:68: FutureWarning: `rcond` parameter will change to the default of machine precision times ``max(M, N)`` where M and N are the input matrix dimensions.\n",
      "To use the future default and silence this warning we advise to pass `rcond=None`, to keep using the old, explicitly pass `rcond=-1`.\n",
      "  P = np.linalg.lstsq(X_homo, Y)[0].T # Affine matrix. 3 x 4\n"
     ]
    }
   ],
   "source": [
    "results_l = app_l.get(img)"
   ]
  },
  {
   "cell_type": "code",
   "execution_count": null,
   "id": "0cc5e94d-e0e2-4805-a488-74f186b97c1b",
   "metadata": {},
   "outputs": [],
   "source": [
    "print(results_l)"
   ]
  },
  {
   "cell_type": "code",
   "execution_count": 16,
   "id": "c81cf057-7482-4273-aa0b-062e8c47e66e",
   "metadata": {},
   "outputs": [
    {
     "data": {
      "text/plain": [
       "(list, 5)"
      ]
     },
     "execution_count": 16,
     "metadata": {},
     "output_type": "execute_result"
    }
   ],
   "source": [
    "type(results_l), len(results_l)"
   ]
  },
  {
   "cell_type": "code",
   "execution_count": 17,
   "id": "a8a66257-cd7a-41b4-aa9b-fc9e41e6431b",
   "metadata": {},
   "outputs": [
    {
     "data": {
      "text/plain": [
       "dict_keys(['bbox', 'kps', 'det_score', 'landmark_3d_68', 'pose', 'landmark_2d_106', 'gender', 'age', 'embedding'])"
      ]
     },
     "execution_count": 17,
     "metadata": {},
     "output_type": "execute_result"
    }
   ],
   "source": [
    "results_l[0].keys()"
   ]
  },
  {
   "cell_type": "code",
   "execution_count": 18,
   "id": "c42a92c0-06a8-4bfd-a364-2a2c9e3d3d91",
   "metadata": {},
   "outputs": [
    {
     "data": {
      "text/plain": [
       "array([320.30533 ,  14.177762, 380.1629  ,  94.88099 ], dtype=float32)"
      ]
     },
     "execution_count": 18,
     "metadata": {},
     "output_type": "execute_result"
    }
   ],
   "source": [
    "results_l[0]['bbox']"
   ]
  },
  {
   "cell_type": "code",
   "execution_count": 37,
   "id": "b8d35a37-c11b-4069-81b4-5cff89c771ec",
   "metadata": {},
   "outputs": [],
   "source": [
    "img_copy=img.copy()\n",
    "gender_encode = ['Female', 'Male']\n",
    "for res in results_l:\n",
    "    x1,y1,x2,y2 = res['bbox'].astype(int)\n",
    "    #draw rectangle\n",
    "    cv2.rectangle(img_copy, (x1,y1), (x2,y2), (0,255,0), 1)\n",
    "    \n",
    "    #draw keypoints\n",
    "    kps = res['kps'].astype(int)\n",
    "    for k1, k2 in kps:\n",
    "        cv2.circle(img_copy,(k1,k2), 2, (255,255,0),-1)\n",
    "\n",
    "    #detection score\n",
    "    score = \"score: {}%\".format(int(res['det_score']*100))\n",
    "    cv2.putText(img_copy, score, (x1,y1),cv2.FONT_HERSHEY_PLAIN, 0.5, (255,255,255))\n",
    "    \n",
    "    #age and gender\n",
    "    gender = gender_encode[res['gender']]\n",
    "    age = res['age']\n",
    "    age_gender = f\"{gender}::{age}\"\n",
    "    cv2.putText(img_copy, age_gender, (x1,y2+10),cv2.FONT_HERSHEY_PLAIN, 0.5, (255,255,255))\n",
    "    \n",
    "cv2.imshow('bbox',img_copy)\n",
    "cv2.waitKey(0) \n",
    "cv2.destroyAllWindows()"
   ]
  },
  {
   "cell_type": "code",
   "execution_count": 20,
   "id": "d998e4e4-23bf-4118-b54c-d79fc5f843ee",
   "metadata": {},
   "outputs": [
    {
     "data": {
      "text/plain": [
       "array([[349.87634 ,  60.842724],\n",
       "       [369.84872 ,  46.738758],\n",
       "       [371.86533 ,  65.1437  ],\n",
       "       [360.04123 ,  81.993515],\n",
       "       [375.1988  ,  70.87351 ]], dtype=float32)"
      ]
     },
     "execution_count": 20,
     "metadata": {},
     "output_type": "execute_result"
    }
   ],
   "source": [
    "results_l[0]['kps']"
   ]
  },
  {
   "cell_type": "code",
   "execution_count": 22,
   "id": "639ed8c0-8203-4ca8-b392-ddc34a88aebc",
   "metadata": {},
   "outputs": [
    {
     "data": {
      "text/plain": [
       "0.8651961"
      ]
     },
     "execution_count": 22,
     "metadata": {},
     "output_type": "execute_result"
    }
   ],
   "source": [
    "results_l[0]['det_score']"
   ]
  },
  {
   "cell_type": "code",
   "execution_count": 33,
   "id": "d952de7e-4af2-4190-bd49-79e61188c854",
   "metadata": {},
   "outputs": [],
   "source": [
    "img2 = cv2.imread('test1.jpg')\n",
    "results_sc = app_sc.get(img2)"
   ]
  },
  {
   "cell_type": "code",
   "execution_count": 34,
   "id": "2df80515-8c85-43d0-944f-31fc36522bdd",
   "metadata": {},
   "outputs": [],
   "source": [
    "img_copy2=img2.copy()\n",
    "for res in results_sc:\n",
    "    x1,y1,x2,y2 = res['bbox'].astype(int)\n",
    "    #draw rectangle\n",
    "    cv2.rectangle(img_copy2, (x1,y1), (x2,y2), (0,255,0), 1)\n",
    "    \n",
    "    #draw keypoints\n",
    "    kps = res['kps'].astype(int)\n",
    "    for k1, k2 in kps:\n",
    "        cv2.circle(img_copy2,(k1,k2), 2, (255,255,0),-1)\n",
    "\n",
    "    #detection score\n",
    "    score = \"score: {}%\".format(int(res['det_score']*100))\n",
    "    cv2.putText(img_copy2, score, (x1,y1),cv2.FONT_HERSHEY_PLAIN, 0.5, (255,255,255))\n",
    "    \n",
    "    \n",
    "cv2.imshow('bbox',img_copy2)\n",
    "cv2.waitKey(0) \n",
    "cv2.destroyAllWindows()"
   ]
  },
  {
   "cell_type": "code",
   "execution_count": 30,
   "id": "22fb2766-dd17-465e-b0a3-00faf0863d83",
   "metadata": {},
   "outputs": [
    {
     "data": {
      "text/plain": [
       "dict_keys(['bbox', 'kps', 'det_score', 'embedding'])"
      ]
     },
     "execution_count": 30,
     "metadata": {},
     "output_type": "execute_result"
    }
   ],
   "source": [
    "results_sc[0].keys()"
   ]
  },
  {
   "cell_type": "code",
   "execution_count": null,
   "id": "e47e2bb6-0306-4351-903d-c141e594e0fd",
   "metadata": {},
   "outputs": [],
   "source": []
  }
 ],
 "metadata": {
  "kernelspec": {
   "display_name": "Python 3 (ipykernel)",
   "language": "python",
   "name": "python3"
  },
  "language_info": {
   "codemirror_mode": {
    "name": "ipython",
    "version": 3
   },
   "file_extension": ".py",
   "mimetype": "text/x-python",
   "name": "python",
   "nbconvert_exporter": "python",
   "pygments_lexer": "ipython3",
   "version": "3.11.9"
  }
 },
 "nbformat": 4,
 "nbformat_minor": 5
}
