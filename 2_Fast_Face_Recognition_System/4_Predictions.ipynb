{
 "cells": [
  {
   "cell_type": "code",
   "execution_count": 1,
   "id": "84eabb40-aa9e-4c34-b816-40fd07457cd7",
   "metadata": {},
   "outputs": [
    {
     "name": "stderr",
     "output_type": "stream",
     "text": [
      "INFO:albumentations.check_version:A new version of Albumentations is available: 1.4.14 (you have 1.4.13). Upgrade using: pip install -U albumentations. To disable automatic update checks, set the environment variable NO_ALBUMENTATIONS_UPDATE to 1.\n"
     ]
    },
    {
     "name": "stdout",
     "output_type": "stream",
     "text": [
      "Applied providers: ['CPUExecutionProvider'], with options: {'CPUExecutionProvider': {}}\n",
      "find model: C:\\Users\\tuand/.insightface\\models\\buffalo_sc\\det_500m.onnx detection [1, 3, '?', '?'] 127.5 128.0\n",
      "Applied providers: ['CPUExecutionProvider'], with options: {'CPUExecutionProvider': {}}\n",
      "find model: C:\\Users\\tuand/.insightface\\models\\buffalo_sc\\w600k_mbf.onnx recognition ['None', 3, 112, 112] 127.5 127.5\n",
      "set det-size: (640, 640)\n"
     ]
    },
    {
     "name": "stderr",
     "output_type": "stream",
     "text": [
      "d:\\Code\\Attendance_System\\attendance_system\\Lib\\site-packages\\onnxruntime\\capi\\onnxruntime_inference_collection.py:69: UserWarning: Specified provider 'CUDAExecutionProvider' is not in available provider names.Available providers: 'AzureExecutionProvider, CPUExecutionProvider'\n",
      "  warnings.warn(\n"
     ]
    }
   ],
   "source": [
    "import face_rec\n",
    "import pandas as pd\n",
    "import numpy as np\n",
    "import cv2"
   ]
  },
  {
   "cell_type": "code",
   "execution_count": 2,
   "id": "34aab048",
   "metadata": {},
   "outputs": [
    {
     "data": {
      "text/plain": [
       "True"
      ]
     },
     "execution_count": 2,
     "metadata": {},
     "output_type": "execute_result"
    }
   ],
   "source": [
    "face_rec.r.ping()"
   ]
  },
  {
   "cell_type": "markdown",
   "id": "b2ed021f-af81-43a1-a3af-4be7469b8db7",
   "metadata": {},
   "source": [
    "### extract data from database"
   ]
  },
  {
   "cell_type": "code",
   "execution_count": 3,
   "id": "0e340974-4f12-441c-a07d-6ab6730fd733",
   "metadata": {},
   "outputs": [
    {
     "data": {
      "text/html": [
       "<div>\n",
       "<style scoped>\n",
       "    .dataframe tbody tr th:only-of-type {\n",
       "        vertical-align: middle;\n",
       "    }\n",
       "\n",
       "    .dataframe tbody tr th {\n",
       "        vertical-align: top;\n",
       "    }\n",
       "\n",
       "    .dataframe thead th {\n",
       "        text-align: right;\n",
       "    }\n",
       "</style>\n",
       "<table border=\"1\" class=\"dataframe\">\n",
       "  <thead>\n",
       "    <tr style=\"text-align: right;\">\n",
       "      <th></th>\n",
       "      <th>name_role</th>\n",
       "      <th>facial_features</th>\n",
       "      <th>Name</th>\n",
       "      <th>Role</th>\n",
       "    </tr>\n",
       "  </thead>\n",
       "  <tbody>\n",
       "    <tr>\n",
       "      <th>0</th>\n",
       "      <td>Morgan Freeman@Teacher</td>\n",
       "      <td>[0.4853508, -0.61925495, -0.4069931, 1.0687788...</td>\n",
       "      <td>Morgan Freeman</td>\n",
       "      <td>Teacher</td>\n",
       "    </tr>\n",
       "    <tr>\n",
       "      <th>1</th>\n",
       "      <td>Barack Obama@Teacher</td>\n",
       "      <td>[0.9485806, -0.5584053, 0.094820514, -1.279659...</td>\n",
       "      <td>Barack Obama</td>\n",
       "      <td>Teacher</td>\n",
       "    </tr>\n",
       "    <tr>\n",
       "      <th>2</th>\n",
       "      <td>abc@Student</td>\n",
       "      <td>[-1.1158142, -0.90308434, 0.33440918, -0.31692...</td>\n",
       "      <td>abc</td>\n",
       "      <td>Student</td>\n",
       "    </tr>\n",
       "    <tr>\n",
       "      <th>3</th>\n",
       "      <td>Angelina Jolie@Student</td>\n",
       "      <td>[0.4324205, 1.0748497, -0.128624, -1.8332914, ...</td>\n",
       "      <td>Angelina Jolie</td>\n",
       "      <td>Student</td>\n",
       "    </tr>\n",
       "    <tr>\n",
       "      <th>4</th>\n",
       "      <td>Chris Evans@Student</td>\n",
       "      <td>[0.72017133, -1.468415, -0.7781255, -1.4601074...</td>\n",
       "      <td>Chris Evans</td>\n",
       "      <td>Student</td>\n",
       "    </tr>\n",
       "    <tr>\n",
       "      <th>5</th>\n",
       "      <td>Scarlett Johansson@Student</td>\n",
       "      <td>[0.19131932, -0.4884374, -1.6902335, 0.4423968...</td>\n",
       "      <td>Scarlett Johansson</td>\n",
       "      <td>Student</td>\n",
       "    </tr>\n",
       "  </tbody>\n",
       "</table>\n",
       "</div>"
      ],
      "text/plain": [
       "                    name_role  \\\n",
       "0      Morgan Freeman@Teacher   \n",
       "1        Barack Obama@Teacher   \n",
       "2                 abc@Student   \n",
       "3      Angelina Jolie@Student   \n",
       "4         Chris Evans@Student   \n",
       "5  Scarlett Johansson@Student   \n",
       "\n",
       "                                     facial_features                Name  \\\n",
       "0  [0.4853508, -0.61925495, -0.4069931, 1.0687788...      Morgan Freeman   \n",
       "1  [0.9485806, -0.5584053, 0.094820514, -1.279659...        Barack Obama   \n",
       "2  [-1.1158142, -0.90308434, 0.33440918, -0.31692...                 abc   \n",
       "3  [0.4324205, 1.0748497, -0.128624, -1.8332914, ...      Angelina Jolie   \n",
       "4  [0.72017133, -1.468415, -0.7781255, -1.4601074...         Chris Evans   \n",
       "5  [0.19131932, -0.4884374, -1.6902335, 0.4423968...  Scarlett Johansson   \n",
       "\n",
       "      Role  \n",
       "0  Teacher  \n",
       "1  Teacher  \n",
       "2  Student  \n",
       "3  Student  \n",
       "4  Student  \n",
       "5  Student  "
      ]
     },
     "execution_count": 3,
     "metadata": {},
     "output_type": "execute_result"
    }
   ],
   "source": [
    "name = 'academy:register'\n",
    "retrive_dict = face_rec.r.hgetall(name)\n",
    "retrive_series = pd.Series(retrive_dict)\n",
    "retrive_series = retrive_series. apply(lambda x: np. frombuffer(x,dtype=np.float32))\n",
    "index = retrive_series.index\n",
    "index = list(map(lambda x: x.decode(), index))\n",
    "retrive_series.index = index\n",
    "retrive_df = retrive_series.to_frame().reset_index()\n",
    "retrive_df.columns = ['name_role', 'facial_features']\n",
    "retrive_df[['Name', 'Role']] = retrive_df['name_role'].apply(lambda x: x.split('@')).apply(pd.Series)\n",
    "retrive_df"
   ]
  },
  {
   "cell_type": "markdown",
   "id": "5a84a3af-d9cb-4688-959a-f9b776b8a115",
   "metadata": {},
   "source": [
    "### real-time prediction"
   ]
  },
  {
   "cell_type": "code",
   "execution_count": 4,
   "id": "59af3b58-ee64-44af-a018-394bf0836ef9",
   "metadata": {},
   "outputs": [],
   "source": [
    "cap = cv2.VideoCapture(0) # default , # 1 for external camera\n",
    "\n",
    "while True:\n",
    "    ret, frame = cap.read()\n",
    "    \n",
    "    if ret == False:\n",
    "        break\n",
    "    \n",
    "    pred_frame = face_rec.face_prediction(frame,retrive_df,'facial_features', ['Name','Role' ], thresh=0.5)\n",
    "    \n",
    "    #cv2.imshow('frame', frame)\n",
    "    cv2.imshow('prediciton',pred_frame)\n",
    "    \n",
    "    if cv2.waitKey(1) == 27: # if i press esc button this condition will get trigged\n",
    "        break\n",
    "\n",
    "cv2.destroyAllWindows()\n",
    "cap.release()"
   ]
  },
  {
   "cell_type": "code",
   "execution_count": null,
   "id": "93cfca78-9117-414f-afa0-a37ad234dff3",
   "metadata": {},
   "outputs": [],
   "source": []
  }
 ],
 "metadata": {
  "kernelspec": {
   "display_name": "Python 3 (ipykernel)",
   "language": "python",
   "name": "python3"
  },
  "language_info": {
   "codemirror_mode": {
    "name": "ipython",
    "version": 3
   },
   "file_extension": ".py",
   "mimetype": "text/x-python",
   "name": "python",
   "nbconvert_exporter": "python",
   "pygments_lexer": "ipython3",
   "version": "3.11.9"
  }
 },
 "nbformat": 4,
 "nbformat_minor": 5
}
